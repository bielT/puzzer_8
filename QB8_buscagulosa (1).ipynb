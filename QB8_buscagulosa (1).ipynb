{
 "cells": [
  {
   "cell_type": "code",
   "execution_count": 10,
   "id": "94be725f-b52f-488e-8c93-4d6ef9574454",
   "metadata": {},
   "outputs": [],
   "source": [
    "import numpy as n\n",
    "import random as r\n",
    "import math as m \n",
    "import matplotlib.pyplot as ptl"
   ]
  },
  {
   "cell_type": "code",
   "execution_count": 11,
   "id": "5e99bb66-d9ba-4dfc-be15-837ae13b5137",
   "metadata": {},
   "outputs": [],
   "source": [
    "def crie_matriz():\n",
    "  \n",
    "\n",
    "    from random import sample\n",
    "    return sample(range(0,9), 9)\n",
    "  "
   ]
  },
  {
   "cell_type": "code",
   "execution_count": 12,
   "id": "e13f1998-d154-4658-9d12-cffc6f41cf8f",
   "metadata": {},
   "outputs": [],
   "source": [
    "def imprimeMatriz(mat,mat1):\n",
    "    count  = 0\n",
    "    print('Quebra cabeça de 8 peça')\n",
    "    print('alterando     Final')\n",
    "    for i in range(3):\n",
    "            print('|',mat[3*count],',',mat[3*count+1],',',mat[3*count+2],'|',\n",
    "                  '|',mat1[3*count],',',mat1[3*count+1],',',mat1[3*count+2],'|')\n",
    "            count+=1\n",
    "    "
   ]
  },
  {
   "cell_type": "code",
   "execution_count": 13,
   "id": "843e6769-802a-46d5-a1c6-51d0ffb42477",
   "metadata": {},
   "outputs": [],
   "source": [
    "def Cal_H2(final, result):\n",
    "    h =0\n",
    "\n",
    "    for i in range(9):\n",
    "        f  =final[i]\n",
    "        a  =result[i]\n",
    "        \n",
    "        fI,fJ =po(i)\n",
    "        if(fI ==1 and fJ ==1 and f!=a and a !=0):\n",
    "            h+= 1\n",
    "\n",
    "        elif(a!=f):\n",
    "            for j in range(9):\n",
    "                b =result[j]\n",
    "                bI,bJ = po(j)\n",
    "                \n",
    "                if(f==b and a !=0):\n",
    "                    \n",
    "                    h+= abs(bI-fI)+abs(bJ-fJ)\n",
    "                    j=10\n",
    "\n",
    "                        \n",
    "        \n",
    "    return h\n",
    "    "
   ]
  },
  {
   "cell_type": "code",
   "execution_count": 14,
   "id": "07721319-432f-48e0-bc90-32da3e6d8b95",
   "metadata": {},
   "outputs": [],
   "source": [
    "def po(i):\n",
    "    fI =i//3\n",
    "    fJ = i-(3*fI)\n",
    "    return fI,fJ"
   ]
  },
  {
   "cell_type": "code",
   "execution_count": 15,
   "id": "d8d7455a-b6e8-42ce-ae0a-08cec8d2ce63",
   "metadata": {},
   "outputs": [],
   "source": [
    "def poZero(matriz):\n",
    "    i=0\n",
    "    while(matriz[i]!=0):\n",
    "        i+=1\n",
    "    return po(i)        "
   ]
  },
  {
   "cell_type": "code",
   "execution_count": 16,
   "id": "d83cdb1d-3cce-47bc-ac53-3ec99eca0fdd",
   "metadata": {},
   "outputs": [],
   "source": [
    "def vin(i,j,preI,preJ):\n",
    "    rel=[]\n",
    "    count= 0\n",
    "    if(i==1):\n",
    "        \n",
    "        rel.append([0,j])\n",
    "        rel.append([2,j])\n",
    "        count+=2\n",
    "    else:\n",
    "        rel.append([1,j])\n",
    "        count+=1\n",
    "        \n",
    "    if(j==1):\n",
    "        rel.append([i,0])\n",
    "        rel.append([i,2])\n",
    "        count+=2\n",
    "    else:\n",
    "        rel.append([i,1])\n",
    "        count+=1\n",
    "        \n",
    "    for a in range(count-1):\n",
    "        if(rel[a][0]==preI and rel[a][1]==preJ):\n",
    "            rel.pop(a)\n",
    "            a= count\n",
    "\n",
    "    return rel,i,j\n"
   ]
  },
  {
   "cell_type": "code",
   "execution_count": 17,
   "id": "b18ca09a-d35f-4585-9e35-3c0838be5a12",
   "metadata": {},
   "outputs": [],
   "source": [
    "def swap(final, a,vI,vJ,font):\n",
    "    aI,aJ= poZero(a)\n",
    "    b= aI*3 +aJ\n",
    "    vi ,vI,vJ = vin(aI,aJ,vI,vJ)\n",
    "   \n",
    "    result =[]\n",
    "    i=0\n",
    "    flag =0\n",
    "    while (i< len(vi)):\n",
    "        test= a.copy()\n",
    "        aux= vi[i][0]*3 +vi[i][1]\n",
    "        auxJ= test[aux] \n",
    "        test[b] = auxJ\n",
    "        test[aux] = 0\n",
    "        h = Cal_H2(final, test)\n",
    "        for f in range(len(font)):\n",
    "            if( Cal_H2(font[f],test)==0):\n",
    "                flag=1\n",
    "        \n",
    "        i+=1\n",
    "        if(flag==0):\n",
    "            result.append([h,test])\n",
    "        flag=0\n",
    "\n",
    "    i=0\n",
    "    c = 0\n",
    "    res = result[0][1]\n",
    "    res1=result[0][0]\n",
    "    if(1!=len(result)):\n",
    "        while (i< len(result)): \n",
    "\n",
    "            if(int(result[i][0])<int(res1)):\n",
    "                res = result[i][1]\n",
    "                res1= result[i][0]\n",
    "           # elif(int(result[0][0])<int(res1)):\n",
    "            #    res = result[0][1] \n",
    "            #    res1= result[i][0]\n",
    "           #     print('sim')\n",
    "            i+=1\n",
    "\n",
    "    return res ,vI,vJ\n",
    "\n",
    "\n"
   ]
  },
  {
   "cell_type": "code",
   "execution_count": 18,
   "id": "f012383e-7a51-40a5-862e-4d38988ea9db",
   "metadata": {},
   "outputs": [],
   "source": [
    "\n",
    "\n",
    "##print('Final',mat,'Inicial',mat2)\n",
    "##print(Cal_H2(mat,mat2))\n",
    "\n"
   ]
  },
  {
   "cell_type": "code",
   "execution_count": 19,
   "id": "c9e600a7-8a81-47d6-99e4-664c7c5739ce",
   "metadata": {},
   "outputs": [],
   "source": [
    "def ajuste(font, estado ):\n",
    "    if(len(font)<15):\n",
    "        font.append(estado)\n",
    "    else:\n",
    "        x=0\n",
    "        font.pop(x)\n",
    "        font.append(estado)\n",
    "    return font    "
   ]
  },
  {
   "cell_type": "code",
   "execution_count": 27,
   "id": "82c253d0-f6aa-469f-85a4-48337b798f35",
   "metadata": {},
   "outputs": [],
   "source": [
    "def puzzer_8():\n",
    "    #mat = crie_matriz()\n",
    "    #mat2 = crie_matriz()\n",
    "    mat = [1,2,3,8,0,4,7,6,5]\n",
    "    mat2 = [0,1,2,7,8,3,6,5,4]\n",
    "    forteira=[]\n",
    "    forteira.append(mat2)\n",
    "    heu = Cal_H2(mat,mat2)\n",
    "    vI=4\n",
    "    vJ=4\n",
    "    count= 0\n",
    "    while(heu!=0 and count<200 ):\n",
    "\n",
    "        forteira = ajuste(forteira,mat2)\n",
    "        mat2,vI,vJ = swap(mat,mat2,vI,vJ,forteira) \n",
    "        count+=1\n",
    "        heu = Cal_H2(mat,mat2)\n",
    "        #imprimeMatriz(mat2,mat)\n",
    "\n",
    "  \n",
    "    return 1\n"
   ]
  },
  {
   "cell_type": "code",
   "execution_count": 28,
   "id": "ad75ba8c",
   "metadata": {},
   "outputs": [
    {
     "name": "stdout",
     "output_type": "stream",
     "text": [
      "taxa de Sucesso 100\n"
     ]
    }
   ],
   "source": [
    "count=0\n",
    "for i in range(100):\n",
    "    count += puzzer_8()\n",
    "print(\"taxa de Sucesso\",count)"
   ]
  }
 ],
 "metadata": {
  "kernelspec": {
   "display_name": "Python 3 (ipykernel)",
   "language": "python",
   "name": "python3"
  },
  "language_info": {
   "codemirror_mode": {
    "name": "ipython",
    "version": 3
   },
   "file_extension": ".py",
   "mimetype": "text/x-python",
   "name": "python",
   "nbconvert_exporter": "python",
   "pygments_lexer": "ipython3",
   "version": "3.8.10"
  }
 },
 "nbformat": 4,
 "nbformat_minor": 5
}
